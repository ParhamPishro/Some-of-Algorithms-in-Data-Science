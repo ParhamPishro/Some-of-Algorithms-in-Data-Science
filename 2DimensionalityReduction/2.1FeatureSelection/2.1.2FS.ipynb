{
  "cells": [
    {
      "cell_type": "markdown",
      "metadata": {
        "id": "view-in-github",
        "colab_type": "text"
      },
      "source": [
        "<a href=\"https://colab.research.google.com/github/ParhamPishro/Some-of-Algorithms-in-Data-Science/blob/main/2DimensionalityReduction/2.1FeatureSelection/2.1.2FS.ipynb\" target=\"_parent\"><img src=\"https://colab.research.google.com/assets/colab-badge.svg\" alt=\"Open In Colab\"/></a>"
      ]
    },
    {
      "cell_type": "markdown",
      "source": [
        "# Forward Selection"
      ],
      "metadata": {
        "id": "GUknrVGWqPO5"
      }
    },
    {
      "cell_type": "code",
      "execution_count": null,
      "metadata": {
        "id": "KiOnfcSpp2jM"
      },
      "outputs": [],
      "source": [
        "#!pip install mlxtend"
      ]
    },
    {
      "cell_type": "code",
      "execution_count": null,
      "metadata": {
        "id": "iK91rFF-p2je"
      },
      "outputs": [],
      "source": [
        "#import libraries\n",
        "\n",
        "import numpy as np\n",
        "import pandas as pd\n",
        "import seaborn as sns\n",
        "import matplotlib.pyplot as plt\n",
        "from sklearn.neighbors import KNeighborsClassifier\n",
        "from sklearn.metrics import accuracy_score\n",
        "from mlxtend.feature_selection import SequentialFeatureSelector as sfs"
      ]
    },
    {
      "cell_type": "code",
      "execution_count": null,
      "metadata": {
        "id": "L2Mz2u9Up2jk",
        "outputId": "26c351b5-92f2-4112-ded5-188c6e87e1f9"
      },
      "outputs": [
        {
          "name": "stderr",
          "output_type": "stream",
          "text": [
            "C:\\Users\\ASUS\\anaconda3\\lib\\site-packages\\openpyxl\\worksheet\\_read_only.py:79: UserWarning: Unknown extension is not supported and will be removed\n",
            "  for idx, row in parser.parse():\n",
            "C:\\Users\\ASUS\\anaconda3\\lib\\site-packages\\openpyxl\\worksheet\\_read_only.py:79: UserWarning: Conditional Formatting extension is not supported and will be removed\n",
            "  for idx, row in parser.parse():\n"
          ]
        }
      ],
      "source": [
        "#read data\n",
        "df = pd.read_excel('Escaperoom.xlsx')"
      ]
    },
    {
      "cell_type": "code",
      "execution_count": null,
      "metadata": {
        "id": "V-9v1fALp2jn",
        "outputId": "f9bc1680-11f1-4360-af1f-f07904229076"
      },
      "outputs": [
        {
          "data": {
            "text/html": [
              "<div>\n",
              "<style scoped>\n",
              "    .dataframe tbody tr th:only-of-type {\n",
              "        vertical-align: middle;\n",
              "    }\n",
              "\n",
              "    .dataframe tbody tr th {\n",
              "        vertical-align: top;\n",
              "    }\n",
              "\n",
              "    .dataframe thead th {\n",
              "        text-align: right;\n",
              "    }\n",
              "</style>\n",
              "<table border=\"1\" class=\"dataframe\">\n",
              "  <thead>\n",
              "    <tr style=\"text-align: right;\">\n",
              "      <th></th>\n",
              "      <th>Number</th>\n",
              "      <th>M-F</th>\n",
              "      <th>Ave_Age</th>\n",
              "      <th>Prev_Ed</th>\n",
              "      <th>Ave_Exp</th>\n",
              "      <th>Ave_Fear</th>\n",
              "      <th>Hint</th>\n",
              "      <th>Ans</th>\n",
              "      <th>Plague</th>\n",
              "      <th>Progress</th>\n",
              "      <th>Victory</th>\n",
              "    </tr>\n",
              "  </thead>\n",
              "  <tbody>\n",
              "    <tr>\n",
              "      <th>0</th>\n",
              "      <td>4</td>\n",
              "      <td>0.00</td>\n",
              "      <td>26.75</td>\n",
              "      <td>16</td>\n",
              "      <td>0.50</td>\n",
              "      <td>62.50</td>\n",
              "      <td>6</td>\n",
              "      <td>2</td>\n",
              "      <td>0</td>\n",
              "      <td>87</td>\n",
              "      <td>0</td>\n",
              "    </tr>\n",
              "    <tr>\n",
              "      <th>1</th>\n",
              "      <td>5</td>\n",
              "      <td>0.20</td>\n",
              "      <td>31.20</td>\n",
              "      <td>16</td>\n",
              "      <td>1.40</td>\n",
              "      <td>77.00</td>\n",
              "      <td>7</td>\n",
              "      <td>4</td>\n",
              "      <td>0</td>\n",
              "      <td>82</td>\n",
              "      <td>0</td>\n",
              "    </tr>\n",
              "    <tr>\n",
              "      <th>2</th>\n",
              "      <td>7</td>\n",
              "      <td>1.00</td>\n",
              "      <td>18.71</td>\n",
              "      <td>12</td>\n",
              "      <td>2.57</td>\n",
              "      <td>80.71</td>\n",
              "      <td>10</td>\n",
              "      <td>3</td>\n",
              "      <td>0</td>\n",
              "      <td>81</td>\n",
              "      <td>0</td>\n",
              "    </tr>\n",
              "    <tr>\n",
              "      <th>3</th>\n",
              "      <td>7</td>\n",
              "      <td>0.14</td>\n",
              "      <td>21.86</td>\n",
              "      <td>16</td>\n",
              "      <td>2.14</td>\n",
              "      <td>45.00</td>\n",
              "      <td>6</td>\n",
              "      <td>2</td>\n",
              "      <td>0</td>\n",
              "      <td>102</td>\n",
              "      <td>1</td>\n",
              "    </tr>\n",
              "    <tr>\n",
              "      <th>4</th>\n",
              "      <td>5</td>\n",
              "      <td>0.20</td>\n",
              "      <td>26.80</td>\n",
              "      <td>21</td>\n",
              "      <td>3.60</td>\n",
              "      <td>66.00</td>\n",
              "      <td>3</td>\n",
              "      <td>0</td>\n",
              "      <td>0</td>\n",
              "      <td>111</td>\n",
              "      <td>1</td>\n",
              "    </tr>\n",
              "  </tbody>\n",
              "</table>\n",
              "</div>"
            ],
            "text/plain": [
              "   Number   M-F  Ave_Age  Prev_Ed  Ave_Exp  Ave_Fear  Hint  Ans  Plague  \\\n",
              "0       4  0.00    26.75       16     0.50     62.50     6    2       0   \n",
              "1       5  0.20    31.20       16     1.40     77.00     7    4       0   \n",
              "2       7  1.00    18.71       12     2.57     80.71    10    3       0   \n",
              "3       7  0.14    21.86       16     2.14     45.00     6    2       0   \n",
              "4       5  0.20    26.80       21     3.60     66.00     3    0       0   \n",
              "\n",
              "   Progress  Victory  \n",
              "0        87        0  \n",
              "1        82        0  \n",
              "2        81        0  \n",
              "3       102        1  \n",
              "4       111        1  "
            ]
          },
          "execution_count": 44,
          "metadata": {},
          "output_type": "execute_result"
        }
      ],
      "source": [
        "df.head()"
      ]
    },
    {
      "cell_type": "code",
      "execution_count": null,
      "metadata": {
        "id": "a1VNTXVDp2jp"
      },
      "outputs": [],
      "source": [
        "X = df.drop(['Victory'],axis=1)\n",
        "Y = df['Victory']\n",
        "\n",
        "knn = KNeighborsClassifier(n_neighbors=5)"
      ]
    },
    {
      "cell_type": "code",
      "execution_count": null,
      "metadata": {
        "id": "C0sQaw3Ep2jr",
        "outputId": "00234102-80f3-4b77-b4ae-87ebd52989fe"
      },
      "outputs": [
        {
          "name": "stderr",
          "output_type": "stream",
          "text": [
            "[Parallel(n_jobs=1)]: Using backend SequentialBackend with 1 concurrent workers.\n",
            "[Parallel(n_jobs=1)]: Done   1 out of   1 | elapsed:    0.7s remaining:    0.0s\n",
            "[Parallel(n_jobs=1)]: Done  10 out of  10 | elapsed:    9.2s finished\n",
            "\n",
            "[2023-01-26 22:52:03] Features: 1/3 -- score: 1.0[Parallel(n_jobs=1)]: Using backend SequentialBackend with 1 concurrent workers.\n",
            "[Parallel(n_jobs=1)]: Done   1 out of   1 | elapsed:    0.7s remaining:    0.0s\n",
            "[Parallel(n_jobs=1)]: Done   9 out of   9 | elapsed:    7.6s finished\n",
            "\n",
            "[2023-01-26 22:52:11] Features: 2/3 -- score: 1.0[Parallel(n_jobs=1)]: Using backend SequentialBackend with 1 concurrent workers.\n",
            "[Parallel(n_jobs=1)]: Done   1 out of   1 | elapsed:    0.7s remaining:    0.0s\n",
            "[Parallel(n_jobs=1)]: Done   8 out of   8 | elapsed:    6.9s finished\n",
            "\n",
            "[2023-01-26 22:52:18] Features: 3/3 -- score: 1.0"
          ]
        }
      ],
      "source": [
        "sfs1 = sfs(rf, k_features=3, forward=True, verbose=2, scoring='accuracy')\n",
        "sfs1 = sfs1.fit(X, Y)"
      ]
    },
    {
      "cell_type": "code",
      "execution_count": null,
      "metadata": {
        "id": "h7U8LyuOp2jt",
        "outputId": "2574fefa-7c80-4f74-f688-058a606b9efa"
      },
      "outputs": [
        {
          "name": "stdout",
          "output_type": "stream",
          "text": [
            "['Number', 'M-F', 'Progress']\n"
          ]
        }
      ],
      "source": [
        "features = list(sfs1.k_feature_names_)\n",
        "print(features)"
      ]
    },
    {
      "cell_type": "code",
      "execution_count": null,
      "metadata": {
        "id": "trFdDCCMp2jv",
        "outputId": "160a88db-2cdc-499f-8801-d527255c0113"
      },
      "outputs": [
        {
          "data": {
            "text/html": [
              "<div>\n",
              "<style scoped>\n",
              "    .dataframe tbody tr th:only-of-type {\n",
              "        vertical-align: middle;\n",
              "    }\n",
              "\n",
              "    .dataframe tbody tr th {\n",
              "        vertical-align: top;\n",
              "    }\n",
              "\n",
              "    .dataframe thead th {\n",
              "        text-align: right;\n",
              "    }\n",
              "</style>\n",
              "<table border=\"1\" class=\"dataframe\">\n",
              "  <thead>\n",
              "    <tr style=\"text-align: right;\">\n",
              "      <th></th>\n",
              "      <th>Number</th>\n",
              "      <th>M-F</th>\n",
              "      <th>Progress</th>\n",
              "    </tr>\n",
              "  </thead>\n",
              "  <tbody>\n",
              "    <tr>\n",
              "      <th>0</th>\n",
              "      <td>4</td>\n",
              "      <td>0.00</td>\n",
              "      <td>87</td>\n",
              "    </tr>\n",
              "    <tr>\n",
              "      <th>1</th>\n",
              "      <td>5</td>\n",
              "      <td>0.20</td>\n",
              "      <td>82</td>\n",
              "    </tr>\n",
              "    <tr>\n",
              "      <th>2</th>\n",
              "      <td>7</td>\n",
              "      <td>1.00</td>\n",
              "      <td>81</td>\n",
              "    </tr>\n",
              "    <tr>\n",
              "      <th>3</th>\n",
              "      <td>7</td>\n",
              "      <td>0.14</td>\n",
              "      <td>102</td>\n",
              "    </tr>\n",
              "    <tr>\n",
              "      <th>4</th>\n",
              "      <td>5</td>\n",
              "      <td>0.20</td>\n",
              "      <td>111</td>\n",
              "    </tr>\n",
              "  </tbody>\n",
              "</table>\n",
              "</div>"
            ],
            "text/plain": [
              "   Number   M-F  Progress\n",
              "0       4  0.00        87\n",
              "1       5  0.20        82\n",
              "2       7  1.00        81\n",
              "3       7  0.14       102\n",
              "4       5  0.20       111"
            ]
          },
          "execution_count": 50,
          "metadata": {},
          "output_type": "execute_result"
        }
      ],
      "source": [
        "new_df = df[features]\n",
        "\n",
        "new_df.head()"
      ]
    },
    {
      "cell_type": "code",
      "execution_count": null,
      "metadata": {
        "id": "WD69dt2Vp2jy"
      },
      "outputs": [],
      "source": []
    }
  ],
  "metadata": {
    "kernelspec": {
      "display_name": "Python 3 (ipykernel)",
      "language": "python",
      "name": "python3"
    },
    "language_info": {
      "codemirror_mode": {
        "name": "ipython",
        "version": 3
      },
      "file_extension": ".py",
      "mimetype": "text/x-python",
      "name": "python",
      "nbconvert_exporter": "python",
      "pygments_lexer": "ipython3",
      "version": "3.9.13"
    },
    "colab": {
      "provenance": [],
      "include_colab_link": true
    }
  },
  "nbformat": 4,
  "nbformat_minor": 0
}